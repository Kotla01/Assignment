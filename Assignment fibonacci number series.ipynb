{
 "cells": [
  {
   "cell_type": "code",
   "execution_count": 1,
   "id": "237ac2ad",
   "metadata": {},
   "outputs": [
    {
     "name": "stdout",
     "output_type": "stream",
     "text": [
      "Enter any number:10\n",
      "0 1 1 2 3 5 8 13 21 34 "
     ]
    }
   ],
   "source": [
    "x = int(input(\"Enter any number:\"))\n",
    "x1, x2 = 0, 1\n",
    "sum =0\n",
    "if x<=0:\n",
    "    print(\"Enter any number greater than 0\")\n",
    "else:\n",
    "    for i in range(0, x):\n",
    "        print(sum, end=\" \")\n",
    "        x1 = x2\n",
    "        x2 = sum\n",
    "        sum = x1 + x2"
   ]
  },
  {
   "cell_type": "code",
   "execution_count": null,
   "id": "9fd3b6f3",
   "metadata": {},
   "outputs": [],
   "source": []
  }
 ],
 "metadata": {
  "kernelspec": {
   "display_name": "Python 3 (ipykernel)",
   "language": "python",
   "name": "python3"
  },
  "language_info": {
   "codemirror_mode": {
    "name": "ipython",
    "version": 3
   },
   "file_extension": ".py",
   "mimetype": "text/x-python",
   "name": "python",
   "nbconvert_exporter": "python",
   "pygments_lexer": "ipython3",
   "version": "3.9.7"
  }
 },
 "nbformat": 4,
 "nbformat_minor": 5
}
